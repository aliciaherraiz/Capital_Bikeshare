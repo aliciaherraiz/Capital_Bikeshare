{
 "metadata": {
  "language_info": {
   "codemirror_mode": {
    "name": "ipython",
    "version": 3
   },
   "file_extension": ".py",
   "mimetype": "text/x-python",
   "name": "python",
   "nbconvert_exporter": "python",
   "pygments_lexer": "ipython3",
   "version": "3.8.5-final"
  },
  "orig_nbformat": 2,
  "kernelspec": {
   "name": "python3",
   "display_name": "Python 3.8.5 64-bit (conda)",
   "metadata": {
    "interpreter": {
     "hash": "6e5051750b872bda46f68c85181b85d6bb6ccedf66103087430d643b588daa8b"
    }
   }
  }
 },
 "nbformat": 4,
 "nbformat_minor": 2,
 "cells": [
  {
   "cell_type": "code",
   "execution_count": 1,
   "metadata": {},
   "outputs": [],
   "source": [
    "import numpy as np\n",
    "import pandas as pd\n",
    "from scipy import stats\n",
    "\n",
    "import matplotlib.pyplot as plt\n",
    "import seaborn as sns\n",
    "%matplotlib inline"
   ]
  },
  {
   "cell_type": "code",
   "execution_count": 3,
   "metadata": {},
   "outputs": [],
   "source": [
    "jan = pd.read_csv('202101-capitalbikeshare-tripdata.csv') "
   ]
  },
  {
   "cell_type": "code",
   "execution_count": 10,
   "metadata": {},
   "outputs": [
    {
     "output_type": "execute_result",
     "data": {
      "text/plain": [
       "            ride_id  rideable_type           started_at             ended_at  \\\n",
       "0  13A48BD20CC3DD85   classic_bike  2021-01-08 17:58:48  2021-01-08 18:25:23   \n",
       "1  CA68C580B32EEE66  electric_bike  2021-01-08 22:05:51  2021-01-08 22:23:52   \n",
       "2  5A925307814D5C2B   classic_bike  2021-01-21 17:20:31  2021-01-21 17:23:24   \n",
       "3  B6B2DB54A2B233EE   classic_bike  2021-01-28 10:06:30  2021-01-28 10:20:54   \n",
       "4  921A142D5C8A9759   classic_bike  2021-01-11 12:09:45  2021-01-11 12:20:15   \n",
       "\n",
       "              start_station_name  start_station_id  \\\n",
       "0   Connecticut Ave & Yuma St NW           31318.0   \n",
       "1                  8th & D St NW           31270.0   \n",
       "2  Wilson Blvd. & N. Vermont St.           31926.0   \n",
       "3  Franklin St & S Washington St           31907.0   \n",
       "4      St. Asaph & Montgomery St           31931.0   \n",
       "\n",
       "                end_station_name  end_station_id  start_lat  start_lng  \\\n",
       "0    Georgia Ave & Emerson St NW         31405.0  38.947156 -77.065115   \n",
       "1                 14th & D St SE         31663.0  38.894804 -77.023091   \n",
       "2  George Mason Dr & Wilson Blvd         31036.0  38.879477 -77.114563   \n",
       "3              Braddock Rd Metro         31047.0  38.798133 -77.048700   \n",
       "4              Braddock Rd Metro         31047.0  38.814185 -77.043809   \n",
       "\n",
       "     end_lat    end_lng member_casual  \n",
       "0  38.949662 -77.027333        casual  \n",
       "1  38.884053 -76.986043        member  \n",
       "2  38.878870 -77.120700        member  \n",
       "3  38.814577 -77.052808        member  \n",
       "4  38.814577 -77.052808        casual  "
      ],
      "text/html": "<div>\n<style scoped>\n    .dataframe tbody tr th:only-of-type {\n        vertical-align: middle;\n    }\n\n    .dataframe tbody tr th {\n        vertical-align: top;\n    }\n\n    .dataframe thead th {\n        text-align: right;\n    }\n</style>\n<table border=\"1\" class=\"dataframe\">\n  <thead>\n    <tr style=\"text-align: right;\">\n      <th></th>\n      <th>ride_id</th>\n      <th>rideable_type</th>\n      <th>started_at</th>\n      <th>ended_at</th>\n      <th>start_station_name</th>\n      <th>start_station_id</th>\n      <th>end_station_name</th>\n      <th>end_station_id</th>\n      <th>start_lat</th>\n      <th>start_lng</th>\n      <th>end_lat</th>\n      <th>end_lng</th>\n      <th>member_casual</th>\n    </tr>\n  </thead>\n  <tbody>\n    <tr>\n      <th>0</th>\n      <td>13A48BD20CC3DD85</td>\n      <td>classic_bike</td>\n      <td>2021-01-08 17:58:48</td>\n      <td>2021-01-08 18:25:23</td>\n      <td>Connecticut Ave &amp; Yuma St NW</td>\n      <td>31318.0</td>\n      <td>Georgia Ave &amp; Emerson St NW</td>\n      <td>31405.0</td>\n      <td>38.947156</td>\n      <td>-77.065115</td>\n      <td>38.949662</td>\n      <td>-77.027333</td>\n      <td>casual</td>\n    </tr>\n    <tr>\n      <th>1</th>\n      <td>CA68C580B32EEE66</td>\n      <td>electric_bike</td>\n      <td>2021-01-08 22:05:51</td>\n      <td>2021-01-08 22:23:52</td>\n      <td>8th &amp; D St NW</td>\n      <td>31270.0</td>\n      <td>14th &amp; D St SE</td>\n      <td>31663.0</td>\n      <td>38.894804</td>\n      <td>-77.023091</td>\n      <td>38.884053</td>\n      <td>-76.986043</td>\n      <td>member</td>\n    </tr>\n    <tr>\n      <th>2</th>\n      <td>5A925307814D5C2B</td>\n      <td>classic_bike</td>\n      <td>2021-01-21 17:20:31</td>\n      <td>2021-01-21 17:23:24</td>\n      <td>Wilson Blvd. &amp; N. Vermont St.</td>\n      <td>31926.0</td>\n      <td>George Mason Dr &amp; Wilson Blvd</td>\n      <td>31036.0</td>\n      <td>38.879477</td>\n      <td>-77.114563</td>\n      <td>38.878870</td>\n      <td>-77.120700</td>\n      <td>member</td>\n    </tr>\n    <tr>\n      <th>3</th>\n      <td>B6B2DB54A2B233EE</td>\n      <td>classic_bike</td>\n      <td>2021-01-28 10:06:30</td>\n      <td>2021-01-28 10:20:54</td>\n      <td>Franklin St &amp; S Washington St</td>\n      <td>31907.0</td>\n      <td>Braddock Rd Metro</td>\n      <td>31047.0</td>\n      <td>38.798133</td>\n      <td>-77.048700</td>\n      <td>38.814577</td>\n      <td>-77.052808</td>\n      <td>member</td>\n    </tr>\n    <tr>\n      <th>4</th>\n      <td>921A142D5C8A9759</td>\n      <td>classic_bike</td>\n      <td>2021-01-11 12:09:45</td>\n      <td>2021-01-11 12:20:15</td>\n      <td>St. Asaph &amp; Montgomery St</td>\n      <td>31931.0</td>\n      <td>Braddock Rd Metro</td>\n      <td>31047.0</td>\n      <td>38.814185</td>\n      <td>-77.043809</td>\n      <td>38.814577</td>\n      <td>-77.052808</td>\n      <td>casual</td>\n    </tr>\n  </tbody>\n</table>\n</div>"
     },
     "metadata": {},
     "execution_count": 10
    }
   ],
   "source": [
    "jan.head()"
   ]
  },
  {
   "cell_type": "code",
   "execution_count": 6,
   "metadata": {},
   "outputs": [
    {
     "output_type": "stream",
     "name": "stdout",
     "text": [
      "<class 'pandas.core.frame.DataFrame'>\nRangeIndex: 100070 entries, 0 to 100069\nData columns (total 13 columns):\n #   Column              Non-Null Count   Dtype  \n---  ------              --------------   -----  \n 0   ride_id             100070 non-null  object \n 1   rideable_type       100070 non-null  object \n 2   started_at          100070 non-null  object \n 3   ended_at            100070 non-null  object \n 4   start_station_name  89963 non-null   object \n 5   start_station_id    89963 non-null   float64\n 6   end_station_name    88688 non-null   object \n 7   end_station_id      88688 non-null   float64\n 8   start_lat           100070 non-null  float64\n 9   start_lng           100070 non-null  float64\n 10  end_lat             99913 non-null   float64\n 11  end_lng             99913 non-null   float64\n 12  member_casual       100070 non-null  object \ndtypes: float64(6), object(7)\nmemory usage: 9.9+ MB\n"
     ]
    }
   ],
   "source": [
    "jan.info()"
   ]
  },
  {
   "cell_type": "code",
   "execution_count": 7,
   "metadata": {},
   "outputs": [
    {
     "output_type": "execute_result",
     "data": {
      "text/plain": [
       "ride_id                   0\n",
       "rideable_type             0\n",
       "started_at                0\n",
       "ended_at                  0\n",
       "start_station_name    10107\n",
       "start_station_id      10107\n",
       "end_station_name      11382\n",
       "end_station_id        11382\n",
       "start_lat                 0\n",
       "start_lng                 0\n",
       "end_lat                 157\n",
       "end_lng                 157\n",
       "member_casual             0\n",
       "dtype: int64"
      ]
     },
     "metadata": {},
     "execution_count": 7
    }
   ],
   "source": [
    "jan.isnull().sum()"
   ]
  },
  {
   "cell_type": "code",
   "execution_count": 8,
   "metadata": {},
   "outputs": [
    {
     "output_type": "execute_result",
     "data": {
      "text/plain": [
       "       start_station_id  end_station_id      start_lat      start_lng  \\\n",
       "count      89963.000000    88688.000000  100070.000000  100070.000000   \n",
       "mean       31364.762036    31366.006044      38.907127     -77.031105   \n",
       "std          259.424599      258.843521       0.027526       0.031659   \n",
       "min        31000.000000    31000.000000      38.782633     -77.368416   \n",
       "25%        31201.000000    31202.000000      38.894832     -77.044400   \n",
       "50%        31276.000000    31275.000000      38.905697     -77.031737   \n",
       "75%        31606.000000    31606.000000      38.919018     -77.013769   \n",
       "max        32901.000000    32901.000000      39.123330     -76.825533   \n",
       "\n",
       "            end_lat       end_lng  \n",
       "count  99913.000000  99913.000000  \n",
       "mean      38.906055    -77.030925  \n",
       "std        0.027365      0.031627  \n",
       "min       38.720000    -77.370000  \n",
       "25%       38.894758    -77.044400  \n",
       "50%       38.905424    -77.031737  \n",
       "75%       38.917200    -77.013500  \n",
       "max       39.123513    -76.825535  "
      ],
      "text/html": "<div>\n<style scoped>\n    .dataframe tbody tr th:only-of-type {\n        vertical-align: middle;\n    }\n\n    .dataframe tbody tr th {\n        vertical-align: top;\n    }\n\n    .dataframe thead th {\n        text-align: right;\n    }\n</style>\n<table border=\"1\" class=\"dataframe\">\n  <thead>\n    <tr style=\"text-align: right;\">\n      <th></th>\n      <th>start_station_id</th>\n      <th>end_station_id</th>\n      <th>start_lat</th>\n      <th>start_lng</th>\n      <th>end_lat</th>\n      <th>end_lng</th>\n    </tr>\n  </thead>\n  <tbody>\n    <tr>\n      <th>count</th>\n      <td>89963.000000</td>\n      <td>88688.000000</td>\n      <td>100070.000000</td>\n      <td>100070.000000</td>\n      <td>99913.000000</td>\n      <td>99913.000000</td>\n    </tr>\n    <tr>\n      <th>mean</th>\n      <td>31364.762036</td>\n      <td>31366.006044</td>\n      <td>38.907127</td>\n      <td>-77.031105</td>\n      <td>38.906055</td>\n      <td>-77.030925</td>\n    </tr>\n    <tr>\n      <th>std</th>\n      <td>259.424599</td>\n      <td>258.843521</td>\n      <td>0.027526</td>\n      <td>0.031659</td>\n      <td>0.027365</td>\n      <td>0.031627</td>\n    </tr>\n    <tr>\n      <th>min</th>\n      <td>31000.000000</td>\n      <td>31000.000000</td>\n      <td>38.782633</td>\n      <td>-77.368416</td>\n      <td>38.720000</td>\n      <td>-77.370000</td>\n    </tr>\n    <tr>\n      <th>25%</th>\n      <td>31201.000000</td>\n      <td>31202.000000</td>\n      <td>38.894832</td>\n      <td>-77.044400</td>\n      <td>38.894758</td>\n      <td>-77.044400</td>\n    </tr>\n    <tr>\n      <th>50%</th>\n      <td>31276.000000</td>\n      <td>31275.000000</td>\n      <td>38.905697</td>\n      <td>-77.031737</td>\n      <td>38.905424</td>\n      <td>-77.031737</td>\n    </tr>\n    <tr>\n      <th>75%</th>\n      <td>31606.000000</td>\n      <td>31606.000000</td>\n      <td>38.919018</td>\n      <td>-77.013769</td>\n      <td>38.917200</td>\n      <td>-77.013500</td>\n    </tr>\n    <tr>\n      <th>max</th>\n      <td>32901.000000</td>\n      <td>32901.000000</td>\n      <td>39.123330</td>\n      <td>-76.825533</td>\n      <td>39.123513</td>\n      <td>-76.825535</td>\n    </tr>\n  </tbody>\n</table>\n</div>"
     },
     "metadata": {},
     "execution_count": 8
    }
   ],
   "source": [
    "jan.describe()"
   ]
  },
  {
   "cell_type": "code",
   "execution_count": 11,
   "metadata": {},
   "outputs": [
    {
     "output_type": "execute_result",
     "data": {
      "text/plain": [
       "member    66683\n",
       "casual    33387\n",
       "Name: member_casual, dtype: int64"
      ]
     },
     "metadata": {},
     "execution_count": 11
    }
   ],
   "source": [
    "# January - Kind of user\n",
    "jan['member_casual'].value_counts(ascending=False)"
   ]
  },
  {
   "cell_type": "code",
   "execution_count": 12,
   "metadata": {},
   "outputs": [
    {
     "output_type": "execute_result",
     "data": {
      "text/plain": [
       "classic_bike     68687\n",
       "electric_bike    26776\n",
       "docked_bike       4607\n",
       "Name: rideable_type, dtype: int64"
      ]
     },
     "metadata": {},
     "execution_count": 12
    }
   ],
   "source": [
    "# January - Kind of bike\n",
    "jan['rideable_type'].value_counts(ascending=False)"
   ]
  },
  {
   "cell_type": "code",
   "execution_count": 21,
   "metadata": {},
   "outputs": [
    {
     "output_type": "execute_result",
     "data": {
      "text/plain": [
       "15th & P St NW                                         1183\n",
       "New Hampshire Ave & T St NW                            1117\n",
       "14th & Irving St NW                                    1065\n",
       "1st & M St NE                                           922\n",
       "8th & O St NW                                           880\n",
       "14th & V St NW                                          861\n",
       "11th & M St NW                                          836\n",
       "Thomas Circle                                           804\n",
       "5th & K St NW                                           794\n",
       "Adams Mill & Columbia Rd NW                             732\n",
       "15th & Euclid St  NW                                    729\n",
       "20th St & Florida Ave NW                                710\n",
       "Eastern Market Metro / Pennsylvania Ave & 8th St SE     699\n",
       "14th & R St NW                                          698\n",
       "15th & W St NW                                          684\n",
       "3rd & M St NE                                           675\n",
       "17th & Corcoran St NW                                   666\n",
       "14th & Rhode Island Ave NW                              664\n",
       "4th & M St SW                                           651\n",
       "Lamont & Mt Pleasant NW                                 641\n",
       "5th St & Massachusetts Ave NW                           627\n",
       "3rd & H St NE                                           626\n",
       "16th & Harvard St NW                                    622\n",
       "14th & Belmont St NW                                    620\n",
       "6th & H St NE                                           619\n",
       "22nd & I St NW / Foggy Bottom                           607\n",
       "Massachusetts Ave & Dupont Circle NW                    598\n",
       "4th St & K St NW                                        576\n",
       "New Hampshire Ave & Ward Pl NW                          574\n",
       "18th St & Wyoming Ave NW                                571\n",
       "Columbia & Ontario Rd NW                                570\n",
       "4th St & Madison Dr NW                                  568\n",
       "1st & K St SE                                           540\n",
       "Park Rd & Holmead Pl NW                                 531\n",
       "Lincoln Memorial                                        529\n",
       "14th & Newton St NW                                     511\n",
       "Columbia Rd & Belmont St NW                             502\n",
       "25th St & Pennsylvania Ave NW                           494\n",
       "11th & Girard St NW                                     494\n",
       "18th & New Hampshire Ave NW                             494\n",
       "Jefferson Dr & 14th St SW                               490\n",
       "23rd & M St NW                                          489\n",
       "California St & Florida Ave NW                          488\n",
       "10th & Florida Ave NW                                   483\n",
       "12th & L St NW                                          471\n",
       "3rd & Elm St NW                                         463\n",
       "11th & Park Rd NW                                       456\n",
       "7th & T St NW                                           452\n",
       "New Hampshire Ave & 24th St NW                          451\n",
       "Columbus Circle / Union Station                         449\n",
       "18th & R St NW                                          449\n",
       "Lincoln Park / 13th & East Capitol St NE                448\n",
       "Convention Center / 7th & M St NW                       447\n",
       "M St & Pennsylvania Ave NW                              445\n",
       "Henry Bacon Dr & Lincoln Memorial Circle NW             443\n",
       "1st & Rhode Island Ave NW                               440\n",
       "4th St & G St SW                                        440\n",
       "Eastern Market / 7th & North Carolina Ave SE            435\n",
       "14th & L St NW                                          435\n",
       "11th & Kenyon St NW                                     427\n",
       "Name: start_station_name, dtype: int64"
      ]
     },
     "metadata": {},
     "execution_count": 21
    }
   ],
   "source": [
    "# January - Start station name\n",
    "jan['start_station_name'].value_counts(ascending=False).head(60)"
   ]
  },
  {
   "cell_type": "code",
   "execution_count": 22,
   "metadata": {},
   "outputs": [
    {
     "output_type": "execute_result",
     "data": {
      "text/plain": [
       "15th & P St NW                                         1326\n",
       "New Hampshire Ave & T St NW                            1208\n",
       "14th & V St NW                                         1057\n",
       "1st & M St NE                                          1040\n",
       "8th & O St NW                                           882\n",
       "17th & Corcoran St NW                                   833\n",
       "14th & R St NW                                          812\n",
       "14th & Irving St NW                                     760\n",
       "11th & M St NW                                          757\n",
       "15th & W St NW                                          752\n",
       "5th & K St NW                                           739\n",
       "3rd & M St NE                                           725\n",
       "Massachusetts Ave & Dupont Circle NW                    711\n",
       "6th & H St NE                                           698\n",
       "Eastern Market Metro / Pennsylvania Ave & 8th St SE     694\n",
       "Thomas Circle                                           676\n",
       "20th St & Florida Ave NW                                675\n",
       "4th & M St SW                                           667\n",
       "New Hampshire Ave & Ward Pl NW                          648\n",
       "14th & Rhode Island Ave NW                              643\n",
       "M St & Pennsylvania Ave NW                              609\n",
       "22nd & I St NW / Foggy Bottom                           603\n",
       "5th St & Massachusetts Ave NW                           599\n",
       "1st & K St SE                                           592\n",
       "4th St & K St NW                                        582\n",
       "3rd & H St NE                                           580\n",
       "Adams Mill & Columbia Rd NW                             570\n",
       "California St & Florida Ave NW                          560\n",
       "23rd & M St NW                                          548\n",
       "14th & Belmont St NW                                    542\n",
       "7th & T St NW                                           538\n",
       "25th St & Pennsylvania Ave NW                           532\n",
       "4th St & Madison Dr NW                                  529\n",
       "18th & New Hampshire Ave NW                             526\n",
       "Jefferson Dr & 14th St SW                               525\n",
       "18th St & Wyoming Ave NW                                524\n",
       "Columbus Circle / Union Station                         522\n",
       "10th & Florida Ave NW                                   516\n",
       "Lamont & Mt Pleasant NW                                 515\n",
       "18th & R St NW                                          509\n",
       "Lincoln Memorial                                        494\n",
       "New Hampshire Ave & 24th St NW                          488\n",
       "12th & L St NW                                          469\n",
       "14th & L St NW                                          468\n",
       "22nd & P ST NW                                          457\n",
       "1st & Rhode Island Ave NW                               444\n",
       "Park Rd & Holmead Pl NW                                 440\n",
       "Convention Center / 7th & M St NW                       435\n",
       "Potomac & M St NW                                       433\n",
       "Henry Bacon Dr & Lincoln Memorial Circle NW             433\n",
       "4th St & G St SW                                        432\n",
       "Maine Ave & 7th St SW                                   431\n",
       "15th & Euclid St  NW                                    425\n",
       "Eastern Market / 7th & North Carolina Ave SE            420\n",
       "11th & S St NW                                          415\n",
       "14th & Q St NW                                          414\n",
       "Connecticut Ave & R St NW                               409\n",
       "Columbia & Ontario Rd NW                                409\n",
       "20th & L St NW                                          403\n",
       "4th & M St SE                                           403\n",
       "Name: end_station_name, dtype: int64"
      ]
     },
     "metadata": {},
     "execution_count": 22
    }
   ],
   "source": [
    "# January - End station name\n",
    "jan['end_station_name'].value_counts(ascending=False).head(60)"
   ]
  },
  {
   "cell_type": "code",
   "execution_count": 24,
   "metadata": {},
   "outputs": [
    {
     "output_type": "execute_result",
     "data": {
      "text/plain": [
       "     Unnamed: 0         day  hour member_type  count\n",
       "0             0  2021-01-25     0      casual      4\n",
       "1             1  2021-01-25     0      member      4\n",
       "2             2  2021-01-25     1      casual      2\n",
       "3             3  2021-01-25     1      member      4\n",
       "4             4  2021-01-25     2      casual      3\n",
       "..          ...         ...   ...         ...    ...\n",
       "329         329  2021-01-31    21      member     15\n",
       "330         330  2021-01-31    22      casual      9\n",
       "331         331  2021-01-31    22      member     12\n",
       "332         332  2021-01-31    23      casual      3\n",
       "333         333  2021-01-31    23      member      7\n",
       "\n",
       "[334 rows x 5 columns]"
      ],
      "text/html": "<div>\n<style scoped>\n    .dataframe tbody tr th:only-of-type {\n        vertical-align: middle;\n    }\n\n    .dataframe tbody tr th {\n        vertical-align: top;\n    }\n\n    .dataframe thead th {\n        text-align: right;\n    }\n</style>\n<table border=\"1\" class=\"dataframe\">\n  <thead>\n    <tr style=\"text-align: right;\">\n      <th></th>\n      <th>Unnamed: 0</th>\n      <th>day</th>\n      <th>hour</th>\n      <th>member_type</th>\n      <th>count</th>\n    </tr>\n  </thead>\n  <tbody>\n    <tr>\n      <th>0</th>\n      <td>0</td>\n      <td>2021-01-25</td>\n      <td>0</td>\n      <td>casual</td>\n      <td>4</td>\n    </tr>\n    <tr>\n      <th>1</th>\n      <td>1</td>\n      <td>2021-01-25</td>\n      <td>0</td>\n      <td>member</td>\n      <td>4</td>\n    </tr>\n    <tr>\n      <th>2</th>\n      <td>2</td>\n      <td>2021-01-25</td>\n      <td>1</td>\n      <td>casual</td>\n      <td>2</td>\n    </tr>\n    <tr>\n      <th>3</th>\n      <td>3</td>\n      <td>2021-01-25</td>\n      <td>1</td>\n      <td>member</td>\n      <td>4</td>\n    </tr>\n    <tr>\n      <th>4</th>\n      <td>4</td>\n      <td>2021-01-25</td>\n      <td>2</td>\n      <td>casual</td>\n      <td>3</td>\n    </tr>\n    <tr>\n      <th>...</th>\n      <td>...</td>\n      <td>...</td>\n      <td>...</td>\n      <td>...</td>\n      <td>...</td>\n    </tr>\n    <tr>\n      <th>329</th>\n      <td>329</td>\n      <td>2021-01-31</td>\n      <td>21</td>\n      <td>member</td>\n      <td>15</td>\n    </tr>\n    <tr>\n      <th>330</th>\n      <td>330</td>\n      <td>2021-01-31</td>\n      <td>22</td>\n      <td>casual</td>\n      <td>9</td>\n    </tr>\n    <tr>\n      <th>331</th>\n      <td>331</td>\n      <td>2021-01-31</td>\n      <td>22</td>\n      <td>member</td>\n      <td>12</td>\n    </tr>\n    <tr>\n      <th>332</th>\n      <td>332</td>\n      <td>2021-01-31</td>\n      <td>23</td>\n      <td>casual</td>\n      <td>3</td>\n    </tr>\n    <tr>\n      <th>333</th>\n      <td>333</td>\n      <td>2021-01-31</td>\n      <td>23</td>\n      <td>member</td>\n      <td>7</td>\n    </tr>\n  </tbody>\n</table>\n<p>334 rows × 5 columns</p>\n</div>"
     },
     "metadata": {},
     "execution_count": 24
    }
   ],
   "source": [
    "last_week = pd.read_csv(\"last_week.csv\")\n",
    "last_week"
   ]
  },
  {
   "cell_type": "code",
   "execution_count": 25,
   "metadata": {},
   "outputs": [
    {
     "output_type": "stream",
     "name": "stdout",
     "text": [
      "<class 'pandas.core.frame.DataFrame'>\nRangeIndex: 334 entries, 0 to 333\nData columns (total 5 columns):\n #   Column       Non-Null Count  Dtype \n---  ------       --------------  ----- \n 0   Unnamed: 0   334 non-null    int64 \n 1   day          334 non-null    object\n 2   hour         334 non-null    int64 \n 3   member_type  334 non-null    object\n 4   count        334 non-null    int64 \ndtypes: int64(3), object(2)\nmemory usage: 13.2+ KB\n"
     ]
    }
   ],
   "source": [
    "last_week.info()"
   ]
  },
  {
   "cell_type": "code",
   "execution_count": 29,
   "metadata": {},
   "outputs": [
    {
     "output_type": "execute_result",
     "data": {
      "text/plain": [
       "1     14\n",
       "2     13\n",
       "3     11\n",
       "4     10\n",
       "5      9\n",
       "8      9\n",
       "9      9\n",
       "30     8\n",
       "10     7\n",
       "6      6\n",
       "Name: count, dtype: int64"
      ]
     },
     "metadata": {},
     "execution_count": 29
    }
   ],
   "source": [
    "# Last Week - value counts\n",
    "last_week['count'].value_counts(ascending=False).head(10)"
   ]
  },
  {
   "cell_type": "code",
   "execution_count": 30,
   "metadata": {},
   "outputs": [
    {
     "output_type": "execute_result",
     "data": {
      "text/plain": [
       "casual    168\n",
       "member    166\n",
       "Name: member_type, dtype: int64"
      ]
     },
     "metadata": {},
     "execution_count": 30
    }
   ],
   "source": [
    "# last week - Kind of user\n",
    "last_week['member_type'].value_counts(ascending=False)"
   ]
  },
  {
   "cell_type": "code",
   "execution_count": 32,
   "metadata": {},
   "outputs": [
    {
     "output_type": "stream",
     "name": "stdout",
     "text": [
      "<class 'pandas.core.frame.DataFrame'>\nRangeIndex: 334 entries, 0 to 333\nData columns (total 5 columns):\n #   Column       Non-Null Count  Dtype \n---  ------       --------------  ----- \n 0   Unnamed: 0   334 non-null    int64 \n 1   day          334 non-null    object\n 2   hour         334 non-null    int64 \n 3   member_type  334 non-null    object\n 4   count        334 non-null    int64 \ndtypes: int64(3), object(2)\nmemory usage: 13.2+ KB\n"
     ]
    }
   ],
   "source": [
    "last_week['member_type'].value_counts(ascending=False)"
   ]
  },
  {
   "cell_type": "code",
   "execution_count": 55,
   "metadata": {},
   "outputs": [
    {
     "output_type": "execute_result",
     "data": {
      "text/plain": [
       "2021-01-25    48\n",
       "2021-01-27    48\n",
       "2021-01-30    48\n",
       "2021-01-31    48\n",
       "2021-01-26    48\n",
       "2021-01-28    47\n",
       "2021-01-29    47\n",
       "Name: day, dtype: int64"
      ]
     },
     "metadata": {},
     "execution_count": 55
    }
   ],
   "source": [
    "last_week['day'].value_counts(ascending=False)"
   ]
  },
  {
   "cell_type": "code",
   "execution_count": 56,
   "metadata": {},
   "outputs": [
    {
     "output_type": "execute_result",
     "data": {
      "text/plain": [
       "23    14\n",
       "22    14\n",
       "1     14\n",
       "2     14\n",
       "4     14\n",
       "5     14\n",
       "6     14\n",
       "7     14\n",
       "8     14\n",
       "9     14\n",
       "10    14\n",
       "11    14\n",
       "12    14\n",
       "13    14\n",
       "14    14\n",
       "15    14\n",
       "16    14\n",
       "17    14\n",
       "18    14\n",
       "19    14\n",
       "20    14\n",
       "21    14\n",
       "0     14\n",
       "3     12\n",
       "Name: hour, dtype: int64"
      ]
     },
     "metadata": {},
     "execution_count": 56
    }
   ],
   "source": [
    "last_week['hour'].value_counts(ascending=False)"
   ]
  },
  {
   "cell_type": "code",
   "execution_count": 64,
   "metadata": {},
   "outputs": [
    {
     "output_type": "execute_result",
     "data": {
      "text/plain": [
       "23    14\n",
       "22    14\n",
       "1     14\n",
       "2     14\n",
       "4     14\n",
       "5     14\n",
       "6     14\n",
       "7     14\n",
       "8     14\n",
       "9     14\n",
       "10    14\n",
       "11    14\n",
       "12    14\n",
       "13    14\n",
       "14    14\n",
       "15    14\n",
       "16    14\n",
       "17    14\n",
       "18    14\n",
       "19    14\n",
       "20    14\n",
       "21    14\n",
       "0     14\n",
       "3     12\n",
       "Name: hour, dtype: int64"
      ]
     },
     "metadata": {},
     "execution_count": 64
    }
   ],
   "source": [
    "last_week['hour'].value_counts(ascending=False)"
   ]
  },
  {
   "cell_type": "code",
   "execution_count": 45,
   "metadata": {},
   "outputs": [
    {
     "output_type": "execute_result",
     "data": {
      "text/plain": [
       "            Unnamed: 0  hour member_type  count\n",
       "day                                            \n",
       "2021-01-25           0     0      casual      1\n",
       "2021-01-26          48     0      casual      1\n",
       "2021-01-27          96     0      casual      1\n",
       "2021-01-28         144     0      casual      1\n",
       "2021-01-29         191     0      casual      1\n",
       "2021-01-30         238     0      casual      2\n",
       "2021-01-31         286     0      casual      1"
      ],
      "text/html": "<div>\n<style scoped>\n    .dataframe tbody tr th:only-of-type {\n        vertical-align: middle;\n    }\n\n    .dataframe tbody tr th {\n        vertical-align: top;\n    }\n\n    .dataframe thead th {\n        text-align: right;\n    }\n</style>\n<table border=\"1\" class=\"dataframe\">\n  <thead>\n    <tr style=\"text-align: right;\">\n      <th></th>\n      <th>Unnamed: 0</th>\n      <th>hour</th>\n      <th>member_type</th>\n      <th>count</th>\n    </tr>\n    <tr>\n      <th>day</th>\n      <th></th>\n      <th></th>\n      <th></th>\n      <th></th>\n    </tr>\n  </thead>\n  <tbody>\n    <tr>\n      <th>2021-01-25</th>\n      <td>0</td>\n      <td>0</td>\n      <td>casual</td>\n      <td>1</td>\n    </tr>\n    <tr>\n      <th>2021-01-26</th>\n      <td>48</td>\n      <td>0</td>\n      <td>casual</td>\n      <td>1</td>\n    </tr>\n    <tr>\n      <th>2021-01-27</th>\n      <td>96</td>\n      <td>0</td>\n      <td>casual</td>\n      <td>1</td>\n    </tr>\n    <tr>\n      <th>2021-01-28</th>\n      <td>144</td>\n      <td>0</td>\n      <td>casual</td>\n      <td>1</td>\n    </tr>\n    <tr>\n      <th>2021-01-29</th>\n      <td>191</td>\n      <td>0</td>\n      <td>casual</td>\n      <td>1</td>\n    </tr>\n    <tr>\n      <th>2021-01-30</th>\n      <td>238</td>\n      <td>0</td>\n      <td>casual</td>\n      <td>2</td>\n    </tr>\n    <tr>\n      <th>2021-01-31</th>\n      <td>286</td>\n      <td>0</td>\n      <td>casual</td>\n      <td>1</td>\n    </tr>\n  </tbody>\n</table>\n</div>"
     },
     "metadata": {},
     "execution_count": 45
    }
   ],
   "source": [
    "last_week.groupby(by=\"day\").min()"
   ]
  },
  {
   "cell_type": "code",
   "execution_count": 52,
   "metadata": {},
   "outputs": [
    {
     "output_type": "stream",
     "name": "stdout",
     "text": [
      "79.41566265060241\n31.55952380952381\n"
     ]
    }
   ],
   "source": [
    "# Mean count member\n",
    "print(last_week[last_week[\"member_type\"]==\"member\"][\"count\"].mean())\n",
    "# Mean count casual\n",
    "print(last_week[last_week[\"member_type\"]==\"casual\"][\"count\"].mean())"
   ]
  },
  {
   "cell_type": "code",
   "execution_count": 88,
   "metadata": {},
   "outputs": [
    {
     "output_type": "execute_result",
     "data": {
      "text/plain": [
       "hour\n",
       "0      53\n",
       "1      30\n",
       "2      22\n",
       "3      12\n",
       "4      23\n",
       "5      26\n",
       "6      71\n",
       "7     119\n",
       "8     202\n",
       "9     201\n",
       "10    200\n",
       "11    332\n",
       "12    382\n",
       "13    461\n",
       "14    496\n",
       "15    550\n",
       "16    518\n",
       "17    474\n",
       "18    382\n",
       "19    239\n",
       "20    166\n",
       "21    133\n",
       "22    126\n",
       "23     84\n",
       "Name: count, dtype: int64"
      ]
     },
     "metadata": {},
     "execution_count": 88
    }
   ],
   "source": [
    "cas = last_week[last_week['member_type']==\"casual\"].groupby(by=[\"hour\"]).sum()[\"count\"]\n",
    "cas"
   ]
  },
  {
   "cell_type": "code",
   "execution_count": 90,
   "metadata": {},
   "outputs": [
    {
     "output_type": "execute_result",
     "data": {
      "text/plain": [
       "(    Unnamed: 0         day  hour member_type  count\n",
       " 0            0  2021-01-25     0      casual      4\n",
       " 1            1  2021-01-25     0      member      4\n",
       " 2            2  2021-01-25     1      casual      2\n",
       " 3            3  2021-01-25     1      member      4\n",
       " 4            4  2021-01-25     2      casual      3\n",
       " 5            5  2021-01-25     2      member      2\n",
       " 6            6  2021-01-25     3      casual      1\n",
       " 7            7  2021-01-25     3      member      3\n",
       " 8            8  2021-01-25     4      casual      3\n",
       " 9            9  2021-01-25     4      member      2\n",
       " 10          10  2021-01-25     5      casual      5\n",
       " 11          11  2021-01-25     5      member     21\n",
       " 12          12  2021-01-25     6      casual      8\n",
       " 13          13  2021-01-25     6      member     60\n",
       " 14          14  2021-01-25     7      casual     16\n",
       " 15          15  2021-01-25     7      member    114\n",
       " 16          16  2021-01-25     8      casual     37\n",
       " 17          17  2021-01-25     8      member    172\n",
       " 18          18  2021-01-25     9      casual     30\n",
       " 19          19  2021-01-25     9      member    136\n",
       " 20          20  2021-01-25    10      casual     29\n",
       " 21          21  2021-01-25    10      member     93\n",
       " 22          22  2021-01-25    11      casual     49\n",
       " 23          23  2021-01-25    11      member    112\n",
       " 24          24  2021-01-25    12      casual     43\n",
       " 25          25  2021-01-25    12      member    151\n",
       " 26          26  2021-01-25    13      casual     46\n",
       " 27          27  2021-01-25    13      member    121\n",
       " 28          28  2021-01-25    14      casual     53\n",
       " 29          29  2021-01-25    14      member    132\n",
       " 30          30  2021-01-25    15      casual     72\n",
       " 31          31  2021-01-25    15      member    138\n",
       " 32          32  2021-01-25    16      casual     52\n",
       " 33          33  2021-01-25    16      member    205\n",
       " 34          34  2021-01-25    17      casual     30\n",
       " 35          35  2021-01-25    17      member    163\n",
       " 36          36  2021-01-25    18      casual     11\n",
       " 37          37  2021-01-25    18      member     80\n",
       " 38          38  2021-01-25    19      casual     12\n",
       " 39          39  2021-01-25    19      member     53\n",
       " 40          40  2021-01-25    20      casual      9\n",
       " 41          41  2021-01-25    20      member     38\n",
       " 42          42  2021-01-25    21      casual      8\n",
       " 43          43  2021-01-25    21      member     18\n",
       " 44          44  2021-01-25    22      casual     10\n",
       " 45          45  2021-01-25    22      member     16\n",
       " 46          46  2021-01-25    23      casual     10\n",
       " 47          47  2021-01-25    23      member      9,\n",
       "     Unnamed: 0         day  hour member_type  count\n",
       " 48          48  2021-01-26     0      casual      2\n",
       " 49          49  2021-01-26     0      member      2\n",
       " 50          50  2021-01-26     1      casual      2\n",
       " 51          51  2021-01-26     1      member      1\n",
       " 52          52  2021-01-26     2      casual      1\n",
       " 53          53  2021-01-26     2      member      1\n",
       " 54          54  2021-01-26     3      casual      1\n",
       " 55          55  2021-01-26     3      member      2\n",
       " 56          56  2021-01-26     4      casual      4\n",
       " 57          57  2021-01-26     4      member      4\n",
       " 58          58  2021-01-26     5      casual      1\n",
       " 59          59  2021-01-26     5      member      9\n",
       " 60          60  2021-01-26     6      casual      6\n",
       " 61          61  2021-01-26     6      member     39\n",
       " 62          62  2021-01-26     7      casual      6\n",
       " 63          63  2021-01-26     7      member     55\n",
       " 64          64  2021-01-26     8      casual     13\n",
       " 65          65  2021-01-26     8      member     84\n",
       " 66          66  2021-01-26     9      casual     19\n",
       " 67          67  2021-01-26     9      member     69\n",
       " 68          68  2021-01-26    10      casual     19\n",
       " 69          69  2021-01-26    10      member     43\n",
       " 70          70  2021-01-26    11      casual     30\n",
       " 71          71  2021-01-26    11      member     59\n",
       " 72          72  2021-01-26    12      casual     37\n",
       " 73          73  2021-01-26    12      member     84\n",
       " 74          74  2021-01-26    13      casual     30\n",
       " 75          75  2021-01-26    13      member     95\n",
       " 76          76  2021-01-26    14      casual     22\n",
       " 77          77  2021-01-26    14      member     97\n",
       " 78          78  2021-01-26    15      casual     50\n",
       " 79          79  2021-01-26    15      member    101\n",
       " 80          80  2021-01-26    16      casual     45\n",
       " 81          81  2021-01-26    16      member    166\n",
       " 82          82  2021-01-26    17      casual     52\n",
       " 83          83  2021-01-26    17      member    191\n",
       " 84          84  2021-01-26    18      casual     46\n",
       " 85          85  2021-01-26    18      member    159\n",
       " 86          86  2021-01-26    19      casual     32\n",
       " 87          87  2021-01-26    19      member     98\n",
       " 88          88  2021-01-26    20      casual     28\n",
       " 89          89  2021-01-26    20      member     54\n",
       " 90          90  2021-01-26    21      casual     14\n",
       " 91          91  2021-01-26    21      member     36\n",
       " 92          92  2021-01-26    22      casual     20\n",
       " 93          93  2021-01-26    22      member     35\n",
       " 94          94  2021-01-26    23      casual     12\n",
       " 95          95  2021-01-26    23      member     21,\n",
       "      Unnamed: 0         day  hour member_type  count\n",
       " 96           96  2021-01-27     0      casual      7\n",
       " 97           97  2021-01-27     0      member     12\n",
       " 98           98  2021-01-27     1      casual      4\n",
       " 99           99  2021-01-27     1      member      5\n",
       " 100         100  2021-01-27     2      casual      2\n",
       " 101         101  2021-01-27     2      member      1\n",
       " 102         102  2021-01-27     3      casual      1\n",
       " 103         103  2021-01-27     3      member      1\n",
       " 104         104  2021-01-27     4      casual      4\n",
       " 105         105  2021-01-27     4      member      7\n",
       " 106         106  2021-01-27     5      casual      8\n",
       " 107         107  2021-01-27     5      member     17\n",
       " 108         108  2021-01-27     6      casual     17\n",
       " 109         109  2021-01-27     6      member     80\n",
       " 110         110  2021-01-27     7      casual     24\n",
       " 111         111  2021-01-27     7      member    135\n",
       " 112         112  2021-01-27     8      casual     52\n",
       " 113         113  2021-01-27     8      member    158\n",
       " 114         114  2021-01-27     9      casual     56\n",
       " 115         115  2021-01-27     9      member    147\n",
       " 116         116  2021-01-27    10      casual     36\n",
       " 117         117  2021-01-27    10      member    114\n",
       " 118         118  2021-01-27    11      casual     55\n",
       " 119         119  2021-01-27    11      member    135\n",
       " 120         120  2021-01-27    12      casual     50\n",
       " 121         121  2021-01-27    12      member    170\n",
       " 122         122  2021-01-27    13      casual     67\n",
       " 123         123  2021-01-27    13      member    164\n",
       " 124         124  2021-01-27    14      casual     82\n",
       " 125         125  2021-01-27    14      member    154\n",
       " 126         126  2021-01-27    15      casual     86\n",
       " 127         127  2021-01-27    15      member    158\n",
       " 128         128  2021-01-27    16      casual     91\n",
       " 129         129  2021-01-27    16      member    222\n",
       " 130         130  2021-01-27    17      casual    105\n",
       " 131         131  2021-01-27    17      member    265\n",
       " 132         132  2021-01-27    18      casual     95\n",
       " 133         133  2021-01-27    18      member    226\n",
       " 134         134  2021-01-27    19      casual     50\n",
       " 135         135  2021-01-27    19      member    160\n",
       " 136         136  2021-01-27    20      casual     27\n",
       " 137         137  2021-01-27    20      member     91\n",
       " 138         138  2021-01-27    21      casual     21\n",
       " 139         139  2021-01-27    21      member     62\n",
       " 140         140  2021-01-27    22      casual     18\n",
       " 141         141  2021-01-27    22      member     45\n",
       " 142         142  2021-01-27    23      casual     10\n",
       " 143         143  2021-01-27    23      member     31,\n",
       "      Unnamed: 0         day  hour member_type  count\n",
       " 144         144  2021-01-28     0      casual      1\n",
       " 145         145  2021-01-28     0      member      9\n",
       " 146         146  2021-01-28     1      casual      5\n",
       " 147         147  2021-01-28     1      member      6\n",
       " 148         148  2021-01-28     2      casual      2\n",
       " 149         149  2021-01-28     2      member      3\n",
       " 150         150  2021-01-28     3      casual      1\n",
       " 151         151  2021-01-28     4      casual      3\n",
       " 152         152  2021-01-28     4      member      5\n",
       " 153         153  2021-01-28     5      casual      3\n",
       " 154         154  2021-01-28     5      member     20\n",
       " 155         155  2021-01-28     6      casual     11\n",
       " 156         156  2021-01-28     6      member     62\n",
       " 157         157  2021-01-28     7      casual     22\n",
       " 158         158  2021-01-28     7      member    122\n",
       " 159         159  2021-01-28     8      casual     31\n",
       " 160         160  2021-01-28     8      member    140\n",
       " 161         161  2021-01-28     9      casual     28\n",
       " 162         162  2021-01-28     9      member    114\n",
       " 163         163  2021-01-28    10      casual     25\n",
       " 164         164  2021-01-28    10      member     80\n",
       " 165         165  2021-01-28    11      casual     44\n",
       " 166         166  2021-01-28    11      member    106\n",
       " 167         167  2021-01-28    12      casual     62\n",
       " 168         168  2021-01-28    12      member    112\n",
       " 169         169  2021-01-28    13      casual     50\n",
       " 170         170  2021-01-28    13      member    100\n",
       " 171         171  2021-01-28    14      casual     49\n",
       " 172         172  2021-01-28    14      member    114\n",
       " 173         173  2021-01-28    15      casual     60\n",
       " 174         174  2021-01-28    15      member    139\n",
       " 175         175  2021-01-28    16      casual     62\n",
       " 176         176  2021-01-28    16      member    193\n",
       " 177         177  2021-01-28    17      casual     70\n",
       " 178         178  2021-01-28    17      member    196\n",
       " 179         179  2021-01-28    18      casual     61\n",
       " 180         180  2021-01-28    18      member    169\n",
       " 181         181  2021-01-28    19      casual     28\n",
       " 182         182  2021-01-28    19      member    114\n",
       " 183         183  2021-01-28    20      casual     17\n",
       " 184         184  2021-01-28    20      member     75\n",
       " 185         185  2021-01-28    21      casual     15\n",
       " 186         186  2021-01-28    21      member     41\n",
       " 187         187  2021-01-28    22      casual     23\n",
       " 188         188  2021-01-28    22      member     42\n",
       " 189         189  2021-01-28    23      casual     10\n",
       " 190         190  2021-01-28    23      member     22,\n",
       "      Unnamed: 0         day  hour member_type  count\n",
       " 144         144  2021-01-28     0      casual      1\n",
       " 145         145  2021-01-28     0      member      9\n",
       " 146         146  2021-01-28     1      casual      5\n",
       " 147         147  2021-01-28     1      member      6\n",
       " 148         148  2021-01-28     2      casual      2\n",
       " 149         149  2021-01-28     2      member      3\n",
       " 150         150  2021-01-28     3      casual      1\n",
       " 151         151  2021-01-28     4      casual      3\n",
       " 152         152  2021-01-28     4      member      5\n",
       " 153         153  2021-01-28     5      casual      3\n",
       " 154         154  2021-01-28     5      member     20\n",
       " 155         155  2021-01-28     6      casual     11\n",
       " 156         156  2021-01-28     6      member     62\n",
       " 157         157  2021-01-28     7      casual     22\n",
       " 158         158  2021-01-28     7      member    122\n",
       " 159         159  2021-01-28     8      casual     31\n",
       " 160         160  2021-01-28     8      member    140\n",
       " 161         161  2021-01-28     9      casual     28\n",
       " 162         162  2021-01-28     9      member    114\n",
       " 163         163  2021-01-28    10      casual     25\n",
       " 164         164  2021-01-28    10      member     80\n",
       " 165         165  2021-01-28    11      casual     44\n",
       " 166         166  2021-01-28    11      member    106\n",
       " 167         167  2021-01-28    12      casual     62\n",
       " 168         168  2021-01-28    12      member    112\n",
       " 169         169  2021-01-28    13      casual     50\n",
       " 170         170  2021-01-28    13      member    100\n",
       " 171         171  2021-01-28    14      casual     49\n",
       " 172         172  2021-01-28    14      member    114\n",
       " 173         173  2021-01-28    15      casual     60\n",
       " 174         174  2021-01-28    15      member    139\n",
       " 175         175  2021-01-28    16      casual     62\n",
       " 176         176  2021-01-28    16      member    193\n",
       " 177         177  2021-01-28    17      casual     70\n",
       " 178         178  2021-01-28    17      member    196\n",
       " 179         179  2021-01-28    18      casual     61\n",
       " 180         180  2021-01-28    18      member    169\n",
       " 181         181  2021-01-28    19      casual     28\n",
       " 182         182  2021-01-28    19      member    114\n",
       " 183         183  2021-01-28    20      casual     17\n",
       " 184         184  2021-01-28    20      member     75\n",
       " 185         185  2021-01-28    21      casual     15\n",
       " 186         186  2021-01-28    21      member     41\n",
       " 187         187  2021-01-28    22      casual     23\n",
       " 188         188  2021-01-28    22      member     42\n",
       " 189         189  2021-01-28    23      casual     10\n",
       " 190         190  2021-01-28    23      member     22)"
      ]
     },
     "metadata": {},
     "execution_count": 90
    }
   ],
   "source": [
    "working_days = last_week[last_week[\"day\"]==\"2021-01-25\"],last_week[last_week[\"day\"]==\"2021-01-26\"],last_week[last_week[\"day\"]==\"2021-01-27\"],last_week[last_week[\"day\"]==\"2021-01-28\"], last_week[last_week[\"day\"]==\"2021-01-28\"]\n",
    "working_days.dtype"
   ]
  },
  {
   "cell_type": "code",
   "execution_count": null,
   "metadata": {},
   "outputs": [],
   "source": [
    "wine_sale_s[wine_sale_s['variety']==\"Chardonnay\"].groupby(by=[\"country\"]).count().sort_values(by='variety', ascending=False).head(10)"
   ]
  }
 ]
}